{
 "cells": [
  {
   "cell_type": "markdown",
   "metadata": {},
   "source": [
    "## KP Lung CD8 T-Cell 10X 5' Immune Profiling Metadata & Clonotype Processing"
   ]
  },
  {
   "cell_type": "markdown",
   "metadata": {},
   "source": [
    "Import package dependencies:"
   ]
  },
  {
   "cell_type": "code",
   "execution_count": null,
   "metadata": {},
   "outputs": [],
   "source": [
    "import pandas as pd\n",
    "import numpy as np\n",
    "from datetime import date"
   ]
  },
  {
   "cell_type": "markdown",
   "metadata": {},
   "source": [
    "Set input file paths:"
   ]
  },
  {
   "cell_type": "code",
   "execution_count": null,
   "metadata": {},
   "outputs": [],
   "source": [
    "# input/output directory\n",
    "today = date.today()\n",
    "od = \"Final_Analysis/\" + today.strftime(\"%Y-%m-%d\") + \"/Metadata/\"\n",
    "md_path = od + today.strftime(\"%Y-%m-%d\") + \"_\" + \"md_doublets_out.csv\"\n",
    "md_path_pre = od + today.strftime(\"%Y-%m-%d\") + \"_\" + \"md_posthash.csv\"\n",
    "\n",
    "projectTils_path = \"data/mouse_samples_per_cell_attributes.csv\""
   ]
  },
  {
   "cell_type": "markdown",
   "metadata": {},
   "source": [
    "Load Data:"
   ]
  },
  {
   "cell_type": "code",
   "execution_count": null,
   "metadata": {},
   "outputs": [],
   "source": [
    "doublets = pd.read_csv(md_path_pre)\n",
    "singlets = pd.read_csv(md_path)"
   ]
  },
  {
   "cell_type": "markdown",
   "metadata": {},
   "source": [
    "Change data types and format dataframes:"
   ]
  },
  {
   "cell_type": "code",
   "execution_count": null,
   "metadata": {},
   "outputs": [],
   "source": [
    "singlets = singlets.rename(columns={\"Unnamed: 0\": \"barcode\"}) # change name to correct id\n",
    "\n",
    "# set index\n",
    "doublets = doublets.set_index('barcode')\n",
    "singlets = singlets.set_index('barcode')\n",
    "\n",
    "# remove unnecessary information\n",
    "singlets = singlets.drop(labels=['orig.ident','nCount_RNA','nFeature_RNA','percent.mt','demux'],axis=1)\n",
    "\n",
    "# ensure correct datatype\n",
    "singlets = singlets.astype(str)\n",
    "doublets = doublets.astype(str)"
   ]
  },
  {
   "cell_type": "markdown",
   "metadata": {},
   "source": [
    "Filter out cells that were removed in doublet removal step:"
   ]
  },
  {
   "cell_type": "code",
   "execution_count": null,
   "metadata": {},
   "outputs": [],
   "source": [
    "singlets_md = singlets.merge(doublets, how = 'left', left_index = True, right_index = True) # merge VDJ"
   ]
  },
  {
   "cell_type": "markdown",
   "metadata": {},
   "source": [
    "## Add in Project TIL data"
   ]
  },
  {
   "cell_type": "code",
   "execution_count": null,
   "metadata": {},
   "outputs": [],
   "source": [
    "projectTils = pd.read_csv(projectTils_path) # load in data\n",
    "\n",
    "# format dataframe\n",
    "projectTils['Cell.ID'] = projectTils['Cell.ID'].str.split('Q_').str[1]\n",
    "projectTils = projectTils.rename(columns={'Cell.ID':'barcode',\n",
    "                                          'query.projected.functional.cluster':'projTIL_Guo_fxCluster',\n",
    "                                          'query.projected.TILPRED':'projTIL_Guo_TILPRED'})\n",
    "\n",
    "projectTils = projectTils.astype(str) # validate correct datatype\n",
    "projectTils = projectTils.set_index('barcode') # set index"
   ]
  },
  {
   "cell_type": "markdown",
   "metadata": {},
   "source": [
    "Merge in ProjectTIL data:"
   ]
  },
  {
   "cell_type": "code",
   "execution_count": null,
   "metadata": {},
   "outputs": [],
   "source": [
    "singlets_md = singlets_md.merge(projectTils, how = 'left', left_index = True, right_index = True) # merge TIL analysis"
   ]
  },
  {
   "cell_type": "markdown",
   "metadata": {},
   "source": [
    "Write final metadata to CSV:"
   ]
  },
  {
   "cell_type": "code",
   "execution_count": null,
   "metadata": {},
   "outputs": [],
   "source": [
    "singlets_md.to_csv((od + today.strftime(\"%Y-%m-%d\") + \"_\" + \"md_final.csv\"))"
   ]
  },
  {
   "cell_type": "markdown",
   "metadata": {},
   "source": [
    "# Determine TCR Clonotypes Derived From Multiple Mice"
   ]
  },
  {
   "cell_type": "markdown",
   "metadata": {},
   "source": [
    "It is important for us to know which clonotypes arose from multiple different mice. Based off of the hashing and VDJ data collected, the vast majority of the clonotypes are derived from a single mouse. A small subset of clonotypes derive from one or multiple mice, so we want to distinguish between the two. "
   ]
  },
  {
   "cell_type": "code",
   "execution_count": null,
   "metadata": {},
   "outputs": [],
   "source": [
    "clonotypes = singlets_md['raw_clonotype_id'].unique() # generates list of clonotypes\n",
    "\n",
    "# set up framework/dataframes\n",
    "mult_clonotypes = pd.DataFrame()\n",
    "bad_clonotypes, double_clonotypes, tripleplus_clonotypes, good_clonotypes = list(), list(), list(), list()\n",
    "\n",
    "# generate subsets\n",
    "singlets_demux = singlets_md.loc[singlets_md['raw_clonotype_id']!= '0'] # look only at cells with VDJ\n",
    "singlets_demuxHash = singlets_md.loc[singlets_md['demux']!= '0'] # look only at cells with hashing\n",
    "\n",
    "# score each clonotype for # demux identities\n",
    "for i in clonotypes:\n",
    "    singlets_clone = singlets_demuxHash.loc[singlets_demuxHash['raw_clonotype_id']== i] # partition just cells in a given clonotype\n",
    "    mice = singlets_clone['demux'].unique() # get number of mice in clonotype\n",
    "    mice_num = len(np.unique(mice))\n",
    "    if (mice_num ==1):\n",
    "        good_clonotypes.append(i)\n",
    "    if (mice_num > 1):\n",
    "        bad_clonotypes.append(i)\n",
    "        mult_clonotypes\n",
    "    if (mice_num == 2):\n",
    "        double_clonotypes.append(i)\n",
    "    if (mice_num >= 3):\n",
    "        tripleplus_clonotypes.append(i)\n",
    "\n",
    "# summary dataframe\n",
    "singlets_demux = singlets_demux.replace({'demux': '0'}, {'demux': 'unmapped'}, regex = True)\n",
    "singlets_mult = singlets_demux.loc[singlets_demux['raw_clonotype_id'].isin(bad_clonotypes)] # get multi-clonotype ids\n",
    "mult_clonotypes = pd.DataFrame(data = singlets_mult[['raw_clonotype_id', 'demux']].value_counts()) # get paired value counts\n",
    "mult_clonotypes = mult_clonotypes.rename(columns = {0: \"cell_number_detected\"})\n",
    "\n",
    "# convert everything to dataframe\n",
    "bad_clonotypes = pd.DataFrame(data=bad_clonotypes)\n",
    "double_clonotypes = pd.DataFrame(data=double_clonotypes)\n",
    "tripleplus_clonotypes = pd.DataFrame(data=tripleplus_clonotypes)\n",
    "\n",
    "# write everything to file\n",
    "bad_clonotypes.to_csv((od + today.strftime(\"%Y-%m-%d\") + \"_\" + \"multipleMouse_clonotypes.csv\"))\n",
    "double_clonotypes.to_csv((od + today.strftime(\"%Y-%m-%d\") + \"_\" + \"twoMouse_clonotypes.csv\"))\n",
    "tripleplus_clonotypes.to_csv((od + today.strftime(\"%Y-%m-%d\") + \"_\" + \"threeOrMoreMouse_clonotypes.csv\"))\n",
    "mult_clonotypes.to_csv((od + today.strftime(\"%Y-%m-%d\") + \"_\" + \"multi_clonotypes_aggregate.csv\"))"
   ]
  }
 ],
 "metadata": {
  "kernelspec": {
   "display_name": "Python 3",
   "language": "python",
   "name": "python3"
  },
  "language_info": {
   "codemirror_mode": {
    "name": "ipython",
    "version": 3
   },
   "file_extension": ".py",
   "mimetype": "text/x-python",
   "name": "python",
   "nbconvert_exporter": "python",
   "pygments_lexer": "ipython3",
   "version": "3.7.4"
  }
 },
 "nbformat": 4,
 "nbformat_minor": 4
}
