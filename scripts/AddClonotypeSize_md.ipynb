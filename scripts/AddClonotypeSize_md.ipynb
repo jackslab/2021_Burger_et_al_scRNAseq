{
 "cells": [
  {
   "cell_type": "code",
   "execution_count": null,
   "metadata": {},
   "outputs": [],
   "source": [
    "import pandas as pd\n",
    "import numpy as np\n",
    "from datetime import date\n",
    "today = date.today()\n",
    "\n",
    "# set input/output directory\n",
    "od = \"Final_Analysis/\" + today.strftime(\"%Y-%m-%d\") + \"/Metadata/\"\n",
    "md_path = od + today.strftime(\"%Y-%m-%d\") + \"_\" + \"md_prefilter.csv\""
   ]
  },
  {
   "cell_type": "code",
   "execution_count": null,
   "metadata": {},
   "outputs": [],
   "source": [
    "md = pd.read_csv(\"2020-11-03_md_final.csv\") # metadata from Seurat object (coldata)"
   ]
  },
  {
   "cell_type": "code",
   "execution_count": null,
   "metadata": {},
   "outputs": [],
   "source": [
    "siy_counts = vdj_siy[[\"raw_clonotype_id\"]].value_counts()\n",
    "siin_counts = vdj_siin[[\"raw_clonotype_id\"]].value_counts()\n",
    "\n",
    "\n",
    "siy_counts = siy_counts.to_dict()\n",
    "siin_counts = siin_counts.to_dict()"
   ]
  },
  {
   "cell_type": "code",
   "execution_count": null,
   "metadata": {},
   "outputs": [],
   "source": [
    "md['clonotype_size'] = md['raw_clonotype_id']\n",
    "md['clonotype_size'].map(siin_counts).fillna(md['clonotype_size'])"
   ]
  },
  {
   "cell_type": "code",
   "execution_count": null,
   "metadata": {},
   "outputs": [],
   "source": [
    "md['clonotype_size'] = md['raw_clonotype_id']\n",
    "md = md.replace({\"clonotype_size\": siy_counts})\n",
    "md = md.replace({\"clonotype_size\": siin_counts})"
   ]
  },
  {
   "cell_type": "code",
   "execution_count": null,
   "metadata": {},
   "outputs": [],
   "source": [
    "md.to_csv((od + today.strftime(\"%Y-%m-%d\") + \"_\" + \"md_plusClonotypeSize.csv\"))"
   ]
  }
 ],
 "metadata": {
  "kernelspec": {
   "display_name": "Python 3",
   "language": "python",
   "name": "python3"
  },
  "language_info": {
   "codemirror_mode": {
    "name": "ipython",
    "version": 3
   },
   "file_extension": ".py",
   "mimetype": "text/x-python",
   "name": "python",
   "nbconvert_exporter": "python",
   "pygments_lexer": "ipython3",
   "version": "3.7.4"
  }
 },
 "nbformat": 4,
 "nbformat_minor": 4
}
