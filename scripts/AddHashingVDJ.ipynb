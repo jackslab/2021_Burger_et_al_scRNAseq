{
 "cells": [
  {
   "cell_type": "markdown",
   "metadata": {},
   "source": [
    "# Add in VDJ + Hashing information to Metadata File"
   ]
  },
  {
   "cell_type": "markdown",
   "metadata": {},
   "source": [
    "## Start with reading & formatting the dataset's current metadata file from Seurat"
   ]
  },
  {
   "cell_type": "code",
   "execution_count": null,
   "metadata": {},
   "outputs": [],
   "source": [
    "import pandas as pd\n",
    "import numpy as np\n",
    "from datetime import date\n",
    "today = date.today()\n",
    "\n",
    "# set input/output directory\n",
    "od = \"Final_Analysis/\" + today.strftime(\"%Y-%m-%d\") + \"/Metadata/\"\n",
    "md_path = od + today.strftime(\"%Y-%m-%d\") + \"_\" + \"md_prefilter.csv\""
   ]
  },
  {
   "cell_type": "code",
   "execution_count": null,
   "metadata": {},
   "outputs": [],
   "source": [
    "# read in the data\n",
    "md_merge = pd.read_csv(md_path)\n",
    "md_merge = md_merge.rename(columns={\"Unnamed: 0\": \"barcode\"}) # rename columns\n",
    "md_merge = md_merge.set_index(['barcode']) # set index\n",
    "md_merge"
   ]
  },
  {
   "cell_type": "markdown",
   "metadata": {},
   "source": [
    "## Read & Format VDJ Data"
   ]
  },
  {
   "cell_type": "code",
   "execution_count": null,
   "metadata": {},
   "outputs": [],
   "source": [
    "# read in VDJ data \n",
    "vdj_siy = pd.read_csv(\"data/VDJ_Contig_Annotations/siy_all_contig_annotations.csv\")\n",
    "vdj_siin = pd.read_csv(\"data/VDJ_Contig_Annotations/siin_all_contig_annotations.csv\")\n",
    "\n",
    "# rename columns for appropriate IDs\n",
    "vdj_siy_b = vdj_siy.rename(columns={0:'barcode'})\n",
    "vdj_siy['barcode'] = vdj_siy_b['barcode'] # i have no idea why i did it this way but dont fix what aint broke\n",
    "vdj_siin_b = vdj_siin.rename(columns={0:'barcode'})\n",
    "vdj_siin['barcode'] = vdj_siin_b['barcode'] # i have no idea why i did it this way but dont fix what aint broke\n",
    "\n",
    "# append library identifiers to barcodes\n",
    "vdj_siy['barcode'] = \"siy_\" + vdj_siy['barcode']\n",
    "vdj_siin['barcode'] = \"siin_\" + vdj_siin['barcode']"
   ]
  },
  {
   "cell_type": "markdown",
   "metadata": {},
   "source": [
    "## Read & Format Hashing Data"
   ]
  },
  {
   "cell_type": "code",
   "execution_count": null,
   "metadata": {},
   "outputs": [],
   "source": [
    "# read in hashing data\n",
    "hash_siin = pd.read_csv(\"data/HashingIDs/200916_siin_hash_hashids.csv\")\n",
    "hash_siy = pd.read_csv(\"data/HashingIDs/200916_siy_hash_hashids.csv\")\n",
    "\n",
    "# reformat hashing data to have right column names\n",
    "hash_siin = hash_siin.rename(columns={\"Unnamed: 0\": \"barcode\", \"x\": \"demux\"})\n",
    "hash_siy = hash_siy.rename(columns={\"Unnamed: 0\": \"barcode\", \"x\": \"demux\"})\n",
    "\n",
    "# append library identifiers to barcodes\n",
    "hash_siin['barcode'] = \"siin_\" + hash_siin['barcode']\n",
    "hash_siy['barcode'] = \"siy_\" + hash_siy['barcode']\n"
   ]
  },
  {
   "cell_type": "markdown",
   "metadata": {},
   "source": [
    "## Filter VDJ Data"
   ]
  },
  {
   "cell_type": "code",
   "execution_count": null,
   "metadata": {},
   "outputs": [],
   "source": [
    "# filter VDJ data\n",
    "vdj_siy = vdj_siy.loc[vdj_siy['is_cell']== True]\n",
    "vdj_siin = vdj_siin.loc[vdj_siin['is_cell']== True]\n",
    "vdj_siy = vdj_siy.loc[vdj_siy['full_length']==True]\n",
    "vdj_siin = vdj_siin.loc[vdj_siin['full_length']==True]\n",
    "vdj_siy = vdj_siy.loc[vdj_siy['high_confidence']==True]\n",
    "vdj_siin = vdj_siin.loc[vdj_siin['high_confidence']==True]\n",
    "\n",
    "# append library identifiers to clonotypes\n",
    "vdj_siy['raw_clonotype_id'] = vdj_siy['raw_clonotype_id'] + \"_siy\"\n",
    "vdj_siin['raw_clonotype_id'] = vdj_siin['raw_clonotype_id'] + \"_siin\"\n",
    "\n",
    "# final filter\n",
    "vdj_siy = vdj_siy.loc[vdj_siy['raw_consensus_id']!='None'] # put into a new dataframe just in case\n",
    "vdj_siin = vdj_siin.loc[vdj_siin['raw_consensus_id']!='None'] # put into a new dataframe just in case\n"
   ]
  },
  {
   "cell_type": "code",
   "execution_count": null,
   "metadata": {},
   "outputs": [],
   "source": [
    "# configure datatypes \n",
    "md_merge = md_merge.astype(str)\n",
    "vdj_siy = vdj_siy.astype(str)\n",
    "vdj_siin = vdj_siin.astype(str)\n",
    "hash_siin = hash_siin.astype(str)\n",
    "hash_siy = hash_siy.astype(str)\n",
    "\n",
    "# set common indices for merge\n",
    "vdj_siy = vdj_siy.set_index(['barcode'])\n",
    "vdj_siin = vdj_siin.set_index(['barcode'])\n",
    "hash_siin = hash_siin.set_index(['barcode'])\n",
    "hash_siy = hash_siy.set_index(['barcode'])\n",
    "\n",
    "# VDJ only\n",
    "# get rid of duplicate info\n",
    "## all duplicated barcodes all have the same clonotype, but will have multiple entries with multiple contigs\n",
    "vdj_siy = vdj_siy[~vdj_siy.index.duplicated(keep='first')]\n",
    "vdj_siin = vdj_siin[~vdj_siin.index.duplicated(keep='first')]\n"
   ]
  },
  {
   "cell_type": "code",
   "execution_count": null,
   "metadata": {},
   "outputs": [],
   "source": [
    "# merge library datasets prior to merge with metadata\n",
    "vdj_merge = pd.concat([vdj_siy,vdj_siin]) # merge VDJ datasets\n",
    "hash_merge = pd.concat([hash_siy,hash_siin])\n",
    "\n",
    "# merge to metadata\n",
    "md_mergeV = md_merge.merge(vdj_merge, how = 'left', left_index = True, right_index = True) # merge VDJ\n",
    "md_mergeV = md_mergeV.merge(hash_merge, how = 'left', left_index = True, right_index = True) # merge hashing\n",
    "\n",
    "## extract strings + format for plotting of top10 clonotypes\n",
    "md_mergeV['clonotype']= md_mergeV.raw_clonotype_id.str.extract('(\\d+)') #extract clonotype #\n",
    "md_mergeV = md_mergeV.fillna(\"0\") # replace NaN with 0s so it can be logically evaluated as an integer\n",
    "md_mergeV['clonotype'] = md_mergeV['clonotype'].astype(int) # change datatype to integer\n",
    "md_mergeV['top_clonotypes'] = np.where(md_mergeV['clonotype'] <= 10, md_mergeV['raw_clonotype_id'], '') #filter out only those in top 10\n",
    "md_mergeV['top_clonotypes'] = md_mergeV['top_clonotypes']\n",
    "# take a look @ final product!\n",
    "md_mergeV"
   ]
  },
  {
   "cell_type": "code",
   "execution_count": null,
   "metadata": {},
   "outputs": [],
   "source": [
    "# save\n",
    "md_mergeV.to_csv((od + today.strftime(\"%Y-%m-%d\") + \"_\" + \"md_posthash.csv\"))"
   ]
  },
  {
   "cell_type": "code",
   "execution_count": null,
   "metadata": {},
   "outputs": [],
   "source": [
    "print(\"Number of SIIN Clonotypes Detected by CellRanger..\")\n",
    "print(len(vdj_siin['raw_clonotype_id'].unique()))"
   ]
  },
  {
   "cell_type": "code",
   "execution_count": null,
   "metadata": {},
   "outputs": [],
   "source": [
    "print(\"Number of SIY Clonotypes Detected by CellRanger..\")\n",
    "print(len(vdj_siy['raw_clonotype_id'].unique()))"
   ]
  },
  {
   "cell_type": "code",
   "execution_count": null,
   "metadata": {},
   "outputs": [],
   "source": [
    "print(\"SIY Clonotype Size Breakdown..\")\n",
    "siy_counts = vdj_siy[[\"raw_clonotype_id\"]].value_counts()\n",
    "siy_counts"
   ]
  },
  {
   "cell_type": "code",
   "execution_count": null,
   "metadata": {},
   "outputs": [],
   "source": [
    "print(\"SIIN Clonotype Size Breakdown..\")\n",
    "siin_counts = vdj_siin[[\"raw_clonotype_id\"]].value_counts()\n",
    "siin_counts"
   ]
  },
  {
   "cell_type": "code",
   "execution_count": null,
   "metadata": {},
   "outputs": [],
   "source": [
    "print(\"SIY Clonotypes with One Cell...\")\n",
    "siy_counts.loc[siy_counts == 1]"
   ]
  },
  {
   "cell_type": "code",
   "execution_count": null,
   "metadata": {},
   "outputs": [],
   "source": [
    "print(\"SIY Clonotypes with More than Five Cells...\")\n",
    "siy_counts.loc[siy_counts < 5]"
   ]
  },
  {
   "cell_type": "code",
   "execution_count": null,
   "metadata": {},
   "outputs": [],
   "source": [
    "print(\"SIIN Clonotypes with One Cell...\")\n",
    "siin_counts.loc[siin_counts == 1]"
   ]
  },
  {
   "cell_type": "code",
   "execution_count": null,
   "metadata": {},
   "outputs": [],
   "source": [
    "print(\"SIIN Clonotypes with More than Five Cells...\")\n",
    "siin_counts.loc[siin_counts < 5]"
   ]
  }
 ],
 "metadata": {
  "kernelspec": {
   "display_name": "Python 3",
   "language": "python",
   "name": "python3"
  },
  "language_info": {
   "codemirror_mode": {
    "name": "ipython",
    "version": 3
   },
   "file_extension": ".py",
   "mimetype": "text/x-python",
   "name": "python",
   "nbconvert_exporter": "python",
   "pygments_lexer": "ipython3",
   "version": "3.7.4"
  }
 },
 "nbformat": 4,
 "nbformat_minor": 4
}
